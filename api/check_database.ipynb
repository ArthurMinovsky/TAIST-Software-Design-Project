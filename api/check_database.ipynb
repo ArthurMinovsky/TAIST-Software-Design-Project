{
 "cells": [
  {
   "cell_type": "code",
   "execution_count": 2,
   "metadata": {},
   "outputs": [
    {
     "name": "stdout",
     "output_type": "stream",
     "text": [
      "localhost:27017 car_in_db car_out_db parking_db\n"
     ]
    }
   ],
   "source": [
    "import pandas as pd\n",
    "from pymongo import MongoClient\n",
    "import random\n",
    "import datetime\n",
    "import dotenv\n",
    "from dotenv import load_dotenv,dotenv_values\n",
    "import os\n",
    "\n",
    "\n",
    "dotenv.load_dotenv()\n",
    "config = dotenv_values(\".env\")\n",
    "\n",
    "ATLAS_URI = os.getenv(\"ATLAS_URI\")\n",
    "CAR_IN_DB = os.getenv(\"CAR_IN_DB\")\n",
    "CAR_OUT_DB = os.getenv(\"CAR_OUT_DB\")\n",
    "PARKING_DB = os.getenv(\"PARKING_DB\")\n",
    "\n",
    "print(ATLAS_URI,CAR_IN_DB,CAR_OUT_DB,PARKING_DB)"
   ]
  },
  {
   "cell_type": "code",
   "execution_count": 22,
   "metadata": {},
   "outputs": [
    {
     "name": "stdout",
     "output_type": "stream",
     "text": [
      "['admin', 'car_test', 'config', 'local', 'parking_db', 'test']\n"
     ]
    }
   ],
   "source": [
    "client = MongoClient(ATLAS_URI)\n",
    "print(client.list_database_names())"
   ]
  },
  {
   "cell_type": "code",
   "execution_count": 4,
   "metadata": {},
   "outputs": [],
   "source": [
    "# delete all database in MongoDB\n",
    "client.drop_database(CAR_IN_DB)\n",
    "client.drop_database(CAR_OUT_DB)\n",
    "client.drop_database(PARKING_DB)"
   ]
  },
  {
   "cell_type": "code",
   "execution_count": 5,
   "metadata": {},
   "outputs": [],
   "source": [
    "db = client[PARKING_DB]\n",
    "parking = db[\"parking\"]\n",
    "parking.drop()\n",
    "parking_list = [\"A1\",\"A2\",\"A3\",\"A4\",\"B1\",\"B2\",\"B3\",\"B4\"]\n",
    "for i in parking_list:\n",
    "    parking.insert_one({\"stall_id\":i,\"stall_status\":0})"
   ]
  },
  {
   "cell_type": "code",
   "execution_count": 6,
   "metadata": {},
   "outputs": [],
   "source": [
    "def get_parking_status():\n",
    "    parking_status = parking.find()\n",
    "    parking_status = list(parking_status)\n",
    "    parking_status = pd.DataFrame(parking_status)\n",
    "    return parking_status"
   ]
  },
  {
   "cell_type": "code",
   "execution_count": null,
   "metadata": {},
   "outputs": [],
   "source": [
    "get_parking_status()"
   ]
  },
  {
   "cell_type": "code",
   "execution_count": 10,
   "metadata": {},
   "outputs": [],
   "source": [
    "def update_parking(stall_id, stall_status):\n",
    "\n",
    "    assert stall_status in [0,1], \"stall_status must be 0 or 1\"\n",
    "    assert stall_id in parking_list, \"stall_id must be A1, A2, A3, A4, B1, B2, B3, B4\"\n",
    "\n",
    "    parking.update_one(\n",
    "            {\"stall_id\":stall_id},\n",
    "            {\"$set\":{\"stall_status\":stall_status}}\n",
    "        )\n",
    "    return f\"{stall_id} updated\""
   ]
  },
  {
   "cell_type": "code",
   "execution_count": 11,
   "metadata": {},
   "outputs": [
    {
     "data": {
      "text/html": [
       "<div>\n",
       "<style scoped>\n",
       "    .dataframe tbody tr th:only-of-type {\n",
       "        vertical-align: middle;\n",
       "    }\n",
       "\n",
       "    .dataframe tbody tr th {\n",
       "        vertical-align: top;\n",
       "    }\n",
       "\n",
       "    .dataframe thead th {\n",
       "        text-align: right;\n",
       "    }\n",
       "</style>\n",
       "<table border=\"1\" class=\"dataframe\">\n",
       "  <thead>\n",
       "    <tr style=\"text-align: right;\">\n",
       "      <th></th>\n",
       "      <th>_id</th>\n",
       "      <th>stall_id</th>\n",
       "      <th>stall_status</th>\n",
       "    </tr>\n",
       "  </thead>\n",
       "  <tbody>\n",
       "    <tr>\n",
       "      <th>0</th>\n",
       "      <td>642b95641bb02e0611f5be27</td>\n",
       "      <td>A1</td>\n",
       "      <td>1</td>\n",
       "    </tr>\n",
       "    <tr>\n",
       "      <th>1</th>\n",
       "      <td>642b95641bb02e0611f5be28</td>\n",
       "      <td>A2</td>\n",
       "      <td>0</td>\n",
       "    </tr>\n",
       "    <tr>\n",
       "      <th>2</th>\n",
       "      <td>642b95641bb02e0611f5be29</td>\n",
       "      <td>A3</td>\n",
       "      <td>0</td>\n",
       "    </tr>\n",
       "    <tr>\n",
       "      <th>3</th>\n",
       "      <td>642b95641bb02e0611f5be2a</td>\n",
       "      <td>A4</td>\n",
       "      <td>0</td>\n",
       "    </tr>\n",
       "    <tr>\n",
       "      <th>4</th>\n",
       "      <td>642b95641bb02e0611f5be2b</td>\n",
       "      <td>B1</td>\n",
       "      <td>0</td>\n",
       "    </tr>\n",
       "    <tr>\n",
       "      <th>5</th>\n",
       "      <td>642b95641bb02e0611f5be2c</td>\n",
       "      <td>B2</td>\n",
       "      <td>0</td>\n",
       "    </tr>\n",
       "    <tr>\n",
       "      <th>6</th>\n",
       "      <td>642b95641bb02e0611f5be2d</td>\n",
       "      <td>B3</td>\n",
       "      <td>0</td>\n",
       "    </tr>\n",
       "    <tr>\n",
       "      <th>7</th>\n",
       "      <td>642b95641bb02e0611f5be2e</td>\n",
       "      <td>B4</td>\n",
       "      <td>0</td>\n",
       "    </tr>\n",
       "  </tbody>\n",
       "</table>\n",
       "</div>"
      ],
      "text/plain": [
       "                        _id stall_id  stall_status\n",
       "0  642b95641bb02e0611f5be27       A1             1\n",
       "1  642b95641bb02e0611f5be28       A2             0\n",
       "2  642b95641bb02e0611f5be29       A3             0\n",
       "3  642b95641bb02e0611f5be2a       A4             0\n",
       "4  642b95641bb02e0611f5be2b       B1             0\n",
       "5  642b95641bb02e0611f5be2c       B2             0\n",
       "6  642b95641bb02e0611f5be2d       B3             0\n",
       "7  642b95641bb02e0611f5be2e       B4             0"
      ]
     },
     "execution_count": 11,
     "metadata": {},
     "output_type": "execute_result"
    }
   ],
   "source": [
    "update_parking(\"A1\",1)\n",
    "get_parking_status()"
   ]
  },
  {
   "cell_type": "code",
   "execution_count": 12,
   "metadata": {},
   "outputs": [],
   "source": [
    "# def select_partking_method():\n",
    "def assign_parking():\n",
    "    parking_status = get_parking_status()\n",
    "    parking_status = parking_status[parking_status[\"stall_status\"]==0]\n",
    "    if len(parking_status) == 0:\n",
    "        return \"No parking available\"\n",
    "    else:\n",
    "        # stall_id = random.choice(parking_status[\"stall_id\"])\n",
    "        # parking by order of stall_id if there are more than 1 empty stall\n",
    "        stall_id = parking_status[\"stall_id\"].iloc[0]\n",
    "        update_parking(stall_id,1)\n",
    "        return f\"Assigned {stall_id}\""
   ]
  },
  {
   "cell_type": "code",
   "execution_count": 21,
   "metadata": {},
   "outputs": [
    {
     "data": {
      "text/html": [
       "<div>\n",
       "<style scoped>\n",
       "    .dataframe tbody tr th:only-of-type {\n",
       "        vertical-align: middle;\n",
       "    }\n",
       "\n",
       "    .dataframe tbody tr th {\n",
       "        vertical-align: top;\n",
       "    }\n",
       "\n",
       "    .dataframe thead th {\n",
       "        text-align: right;\n",
       "    }\n",
       "</style>\n",
       "<table border=\"1\" class=\"dataframe\">\n",
       "  <thead>\n",
       "    <tr style=\"text-align: right;\">\n",
       "      <th></th>\n",
       "      <th>_id</th>\n",
       "      <th>stall_id</th>\n",
       "      <th>stall_status</th>\n",
       "    </tr>\n",
       "  </thead>\n",
       "  <tbody>\n",
       "    <tr>\n",
       "      <th>0</th>\n",
       "      <td>642b95641bb02e0611f5be27</td>\n",
       "      <td>A1</td>\n",
       "      <td>1</td>\n",
       "    </tr>\n",
       "    <tr>\n",
       "      <th>1</th>\n",
       "      <td>642b95641bb02e0611f5be28</td>\n",
       "      <td>A2</td>\n",
       "      <td>1</td>\n",
       "    </tr>\n",
       "    <tr>\n",
       "      <th>2</th>\n",
       "      <td>642b95641bb02e0611f5be29</td>\n",
       "      <td>A3</td>\n",
       "      <td>1</td>\n",
       "    </tr>\n",
       "    <tr>\n",
       "      <th>3</th>\n",
       "      <td>642b95641bb02e0611f5be2a</td>\n",
       "      <td>A4</td>\n",
       "      <td>1</td>\n",
       "    </tr>\n",
       "    <tr>\n",
       "      <th>4</th>\n",
       "      <td>642b95641bb02e0611f5be2b</td>\n",
       "      <td>B1</td>\n",
       "      <td>1</td>\n",
       "    </tr>\n",
       "    <tr>\n",
       "      <th>5</th>\n",
       "      <td>642b95641bb02e0611f5be2c</td>\n",
       "      <td>B2</td>\n",
       "      <td>1</td>\n",
       "    </tr>\n",
       "    <tr>\n",
       "      <th>6</th>\n",
       "      <td>642b95641bb02e0611f5be2d</td>\n",
       "      <td>B3</td>\n",
       "      <td>1</td>\n",
       "    </tr>\n",
       "    <tr>\n",
       "      <th>7</th>\n",
       "      <td>642b95641bb02e0611f5be2e</td>\n",
       "      <td>B4</td>\n",
       "      <td>1</td>\n",
       "    </tr>\n",
       "  </tbody>\n",
       "</table>\n",
       "</div>"
      ],
      "text/plain": [
       "                        _id stall_id  stall_status\n",
       "0  642b95641bb02e0611f5be27       A1             1\n",
       "1  642b95641bb02e0611f5be28       A2             1\n",
       "2  642b95641bb02e0611f5be29       A3             1\n",
       "3  642b95641bb02e0611f5be2a       A4             1\n",
       "4  642b95641bb02e0611f5be2b       B1             1\n",
       "5  642b95641bb02e0611f5be2c       B2             1\n",
       "6  642b95641bb02e0611f5be2d       B3             1\n",
       "7  642b95641bb02e0611f5be2e       B4             1"
      ]
     },
     "execution_count": 21,
     "metadata": {},
     "output_type": "execute_result"
    }
   ],
   "source": [
    "assign_parking()\n",
    "get_parking_status()"
   ]
  }
 ],
 "metadata": {
  "kernelspec": {
   "display_name": "car_parking_test",
   "language": "python",
   "name": "python3"
  },
  "language_info": {
   "codemirror_mode": {
    "name": "ipython",
    "version": 3
   },
   "file_extension": ".py",
   "mimetype": "text/x-python",
   "name": "python",
   "nbconvert_exporter": "python",
   "pygments_lexer": "ipython3",
   "version": "3.9.16"
  },
  "orig_nbformat": 4
 },
 "nbformat": 4,
 "nbformat_minor": 2
}
